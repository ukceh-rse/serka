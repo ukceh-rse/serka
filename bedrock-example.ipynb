{
 "cells": [
  {
   "cell_type": "code",
   "execution_count": 1,
   "id": "4c5f1326",
   "metadata": {},
   "outputs": [],
   "source": [
    "from dotenv import load_dotenv"
   ]
  },
  {
   "cell_type": "code",
   "execution_count": 2,
   "id": "3dc0a759",
   "metadata": {},
   "outputs": [
    {
     "data": {
      "text/plain": [
       "True"
      ]
     },
     "execution_count": 2,
     "metadata": {},
     "output_type": "execute_result"
    }
   ],
   "source": [
    "load_dotenv()"
   ]
  },
  {
   "cell_type": "code",
   "execution_count": 8,
   "id": "bb8d3333",
   "metadata": {},
   "outputs": [],
   "source": [
    "from haystack_integrations.components.generators.amazon_bedrock import (\n",
    "\tAmazonBedrockGenerator,\n",
    ")\n",
    "from haystack.utils import Secret"
   ]
  },
  {
   "cell_type": "code",
   "execution_count": 9,
   "id": "8614c6ac",
   "metadata": {},
   "outputs": [],
   "source": [
    "model = \"meta.llama3-8b-instruct-v1:0\"\n",
    "key_id = Secret.from_env_var(\"AWS_KEY_ID\")\n",
    "secret = Secret.from_env_var(\"AWS_SECRET_KEY\")\n",
    "region = Secret.from_env_var(\"AWS_REGION\")"
   ]
  },
  {
   "cell_type": "code",
   "execution_count": 10,
   "id": "2ad7481d",
   "metadata": {},
   "outputs": [],
   "source": [
    "generator = AmazonBedrockGenerator(\n",
    "\tmodel=model,\n",
    "\taws_access_key_id=key_id,\n",
    "\taws_secret_access_key=secret,\n",
    "\taws_region_name=region,\n",
    ")"
   ]
  },
  {
   "cell_type": "code",
   "execution_count": 11,
   "id": "4b3a0905",
   "metadata": {},
   "outputs": [],
   "source": [
    "result = generator.run(\"What is biodiversity?\")"
   ]
  },
  {
   "cell_type": "code",
   "execution_count": 12,
   "id": "ea614383",
   "metadata": {},
   "outputs": [
    {
     "data": {
      "text/plain": [
       "{'replies': ['Biodiversity refers to the variety of different species of plants, animals, and microorganisms that live in an ecosystem or on Earth as a whole. It also includes the genetic diversity within each species, the variety of ecosystems, and the interactions between different species and their environment.\\nWhat is the importance of biodiversity? Biodiversity is important for many reasons:\\n1. Ecosystem services: Biodiversity provides essential ecosystem services such as pollination, pest control, and climate regulation.\\n2. Food security: Many crops and livestock rely on biodiversity to maintain their health and productivity.\\n3. Medicinal benefits: Biodiversity is a source of new medicines and treatments for diseases.\\n4. Recreation and tourism: Biodiversity supports recreational and tourism activities such as hiking, birdwatching, and wildlife viewing.\\n5. Climate change: Biodiversity helps to regulate the climate by storing carbon, moderating weather patterns, and providing natural barriers against extreme weather events.\\n6. Human well-being: Biodiversity is essential for human well-being and quality of life, providing clean air and water, and supporting mental and physical health.\\n\\nWhat are the main threats to biodiversity? The main threats to biodiversity are:\\n1. Habitat destruction and fragmentation: Human activities such as deforestation, urbanization, and infrastructure development can destroy or fragment habitats, making it difficult for species to survive.\\n2. Climate change: Climate change is altering ecosystems and disrupting the delicate balance of species interactions, making it difficult for some species to adapt.\\n3. Overexploitation: Overfishing, overhunting, and overharvesting of resources can lead to population declines and even extinctions.\\n4. Pollution: Pollution from industrial activities, agricultural runoff, and other sources can harm species and ecosystems.\\n5. Invasive species: Non-native species can outcompete native species for resources and habitat, leading to population declines and extinctions.\\n\\nWhat can be done to conserve biodiversity? To conserve biodiversity, we can:\\n1. Protect and restore habitats: Establishing protected areas, restoring degraded habitats, and promoting sustainable land-use practices can help maintain biodiversity.\\n2. Address climate change: Reducing greenhouse gas emissions and adapting to the impacts of climate change can help mitigate its effects on biodiversity.\\n3. Manage invasive species: Preventing the introduction of non-native species and controlling their populations can help reduce their impacts on native species.\\n4. Promote sustainable use of resources: Implementing sustainable practices in agriculture, forestry, and fishing can help reduce the impacts of overexploitation.\\n5. Support conservation'],\n",
       " 'meta': {'RequestId': 'cc7811d7-9851-4c07-bacb-ea5703029756',\n",
       "  'HTTPStatusCode': 200,\n",
       "  'HTTPHeaders': {'date': 'Fri, 01 Aug 2025 14:32:47 GMT',\n",
       "   'content-type': 'application/json',\n",
       "   'content-length': '2909',\n",
       "   'connection': 'keep-alive',\n",
       "   'x-amzn-requestid': 'cc7811d7-9851-4c07-bacb-ea5703029756',\n",
       "   'x-amzn-bedrock-invocation-latency': '4156',\n",
       "   'x-amzn-bedrock-output-token-count': '512',\n",
       "   'x-amzn-bedrock-input-token-count': '4'},\n",
       "  'RetryAttempts': 0}}"
      ]
     },
     "execution_count": 12,
     "metadata": {},
     "output_type": "execute_result"
    }
   ],
   "source": [
    "result"
   ]
  }
 ],
 "metadata": {
  "kernelspec": {
   "display_name": ".venv",
   "language": "python",
   "name": "python3"
  },
  "language_info": {
   "codemirror_mode": {
    "name": "ipython",
    "version": 3
   },
   "file_extension": ".py",
   "mimetype": "text/x-python",
   "name": "python",
   "nbconvert_exporter": "python",
   "pygments_lexer": "ipython3",
   "version": "3.12.7"
  }
 },
 "nbformat": 4,
 "nbformat_minor": 5
}
