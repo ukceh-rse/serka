{
 "cells": [
  {
   "cell_type": "code",
   "execution_count": 1,
   "id": "4c5f1326",
   "metadata": {},
   "outputs": [],
   "source": [
    "from dotenv import load_dotenv"
   ]
  },
  {
   "cell_type": "code",
   "execution_count": 2,
   "id": "3dc0a759",
   "metadata": {},
   "outputs": [
    {
     "data": {
      "text/plain": [
       "True"
      ]
     },
     "execution_count": 2,
     "metadata": {},
     "output_type": "execute_result"
    }
   ],
   "source": [
    "load_dotenv()"
   ]
  },
  {
   "cell_type": "code",
   "execution_count": 3,
   "id": "bb8d3333",
   "metadata": {},
   "outputs": [],
   "source": [
    "from haystack_integrations.components.generators.amazon_bedrock import (\n",
    "\tAmazonBedrockGenerator,\n",
    ")\n",
    "from haystack.utils import Secret"
   ]
  },
  {
   "cell_type": "code",
   "execution_count": 4,
   "id": "8614c6ac",
   "metadata": {},
   "outputs": [],
   "source": [
    "llama = \"meta.llama3-8b-instruct-v1:0\"\n",
    "claude = \"anthropic.claude-3-7-sonnet-20250219-v1:0\"\n",
    "key_id = Secret.from_env_var(\"AWS_KEY_ID\")\n",
    "secret = Secret.from_env_var(\"AWS_SECRET_KEY\")\n",
    "region = Secret.from_env_var(\"AWS_REGION\")"
   ]
  },
  {
   "cell_type": "code",
   "execution_count": 7,
   "id": "2ad7481d",
   "metadata": {},
   "outputs": [],
   "source": [
    "generator = AmazonBedrockGenerator(\n",
    "\tmodel=claude,\n",
    "\taws_access_key_id=key_id,\n",
    "\taws_secret_access_key=secret,\n",
    "\taws_region_name=region,\n",
    "\tmax_length=200,\n",
    ")"
   ]
  },
  {
   "cell_type": "code",
   "execution_count": 8,
   "id": "4b3a0905",
   "metadata": {},
   "outputs": [],
   "source": [
    "result = generator.run(\"What is biodiversity?\")"
   ]
  },
  {
   "cell_type": "code",
   "execution_count": 9,
   "id": "ea614383",
   "metadata": {},
   "outputs": [
    {
     "data": {
      "text/plain": [
       "{'replies': ['# Biodiversity\\n\\nBiodiversity refers to the variety of life forms on Earth, encompassing:\\n\\n- The diversity of plant and animal species\\n- Genetic variation within species\\n- The variety of ecosystems (forests, wetlands, coral reefs, etc.)\\n- The ecological processes and interactions that sustain these systems\\n\\nBiodiversity is essential for ecosystem functioning, providing services like clean air, water purification, pollination, soil health, and climate regulation. It also represents a valuable resource for medicine, agriculture, and other human needs. The current rate of biodiversity loss due to human activities is a major global concern for ecological sustainability.'],\n",
       " 'meta': {'RequestId': '4ce0b5bb-2b8a-4c6f-a7f9-27db5dfbcaf5',\n",
       "  'HTTPStatusCode': 200,\n",
       "  'HTTPHeaders': {'date': 'Mon, 04 Aug 2025 09:09:20 GMT',\n",
       "   'content-type': 'application/json',\n",
       "   'content-length': '989',\n",
       "   'connection': 'keep-alive',\n",
       "   'x-amzn-requestid': '4ce0b5bb-2b8a-4c6f-a7f9-27db5dfbcaf5',\n",
       "   'x-amzn-bedrock-invocation-latency': '2957',\n",
       "   'x-amzn-bedrock-output-token-count': '137',\n",
       "   'x-amzn-bedrock-input-token-count': '12'},\n",
       "  'RetryAttempts': 0}}"
      ]
     },
     "execution_count": 9,
     "metadata": {},
     "output_type": "execute_result"
    }
   ],
   "source": [
    "result"
   ]
  }
 ],
 "metadata": {
  "kernelspec": {
   "display_name": "serka",
   "language": "python",
   "name": "python3"
  },
  "language_info": {
   "codemirror_mode": {
    "name": "ipython",
    "version": 3
   },
   "file_extension": ".py",
   "mimetype": "text/x-python",
   "name": "python",
   "nbconvert_exporter": "python",
   "pygments_lexer": "ipython3",
   "version": "3.12.7"
  }
 },
 "nbformat": 4,
 "nbformat_minor": 5
}
