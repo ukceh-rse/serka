{
 "cells": [
  {
   "cell_type": "code",
   "execution_count": 1,
   "metadata": {},
   "outputs": [],
   "source": [
    "import os\n",
    "from serka.fetchers import EIDCFetcher\n",
    "from serka.graph.extractors import (\n",
    "\tAuthorExtractor,\n",
    "\tDatasetExtractor,\n",
    "\tOrganisationExtractor,\n",
    "\tRelationshipExtractor,\n",
    "\tTextExtractor,\n",
    ")\n",
    "from haystack import Pipeline\n",
    "from haystack.components.preprocessors import DocumentSplitter\n",
    "from haystack.components.writers import DocumentWriter\n",
    "from haystack_integrations.components.embedders.ollama import OllamaDocumentEmbedder\n",
    "from neo4j_haystack import Neo4jDocumentStore\n",
    "from dotenv import load_dotenv\n",
    "\n",
    "load_dotenv()\n",
    "NEO4J_USERNAME = os.getenv(\"NEO4J_USERNAME\")\n",
    "NEO4J_PASSWORD = os.getenv(\"NEO4J_PASSWORD\")"
   ]
  },
  {
   "cell_type": "code",
   "execution_count": null,
   "metadata": {},
   "outputs": [
    {
     "name": "stderr",
     "output_type": "stream",
     "text": [
      "2025-04-23 15:13:42,064 - haystack.core.pipeline.pipeline - INFO - Running component fetcher\n",
      "2025-04-23 15:13:42,128 - haystack.core.pipeline.pipeline - INFO - Running component author_extractor\n",
      "2025-04-23 15:13:42,129 - haystack.core.pipeline.pipeline - INFO - Running component orgs_extractor\n",
      "2025-04-23 15:13:42,130 - haystack.core.pipeline.pipeline - INFO - Running component dataset_extractor\n",
      "2025-04-23 15:13:42,131 - haystack.core.pipeline.pipeline - INFO - Running component joiner\n",
      "2025-04-23 15:13:42,132 - haystack.core.pipeline.pipeline - INFO - Running component node_emb\n",
      "Calculating embeddings:   0%|          | 0/1 [00:00<?, ?it/s]2025-04-23 15:13:47,633 - httpx - INFO - HTTP Request: POST http://localhost:11434/api/embed \"HTTP/1.1 200 OK\"\n",
      "Calculating embeddings: 100%|██████████| 1/1 [00:05<00:00,  5.50s/it]\n",
      "Calculating embeddings:   0%|          | 0/1 [00:00<?, ?it/s]2025-04-23 15:13:47,995 - httpx - INFO - HTTP Request: POST http://localhost:11434/api/embed \"HTTP/1.1 200 OK\"\n",
      "Calculating embeddings: 100%|██████████| 1/1 [00:00<00:00,  2.81it/s]\n",
      "Calculating embeddings:   0%|          | 0/1 [00:00<?, ?it/s]2025-04-23 15:13:50,950 - httpx - INFO - HTTP Request: POST http://localhost:11434/api/embed \"HTTP/1.1 200 OK\"\n",
      "Calculating embeddings: 100%|██████████| 1/1 [00:02<00:00,  2.96s/it]\n",
      "2025-04-23 15:13:50,964 - haystack.core.pipeline.pipeline - INFO - Running component graph_writer\n"
     ]
    },
    {
     "data": {
      "text/plain": [
       "{'graph_writer': {'nodes_created': {'Person': 22,\n",
       "   'Organisation': 2,\n",
       "   'Dataset': 10}}}"
      ]
     },
     "execution_count": 3,
     "metadata": {},
     "output_type": "execute_result"
    }
   ],
   "source": [
    "from serka.graph.embedders import OllamaNodeEmbedder\n",
    "from serka.graph.joiners import NodeJoiner\n",
    "from serka.graph.writers import Neo4jGraphWriter\n",
    "\n",
    "p = Pipeline()\n",
    "p.add_component(\"fetcher\", EIDCFetcher())\n",
    "p.add_component(\"author_extractor\", AuthorExtractor())\n",
    "p.add_component(\"orgs_extractor\", OrganisationExtractor())\n",
    "p.add_component(\"dataset_extractor\", DatasetExtractor())\n",
    "p.add_component(\"joiner\", NodeJoiner())\n",
    "p.add_component(\"node_emb\", OllamaNodeEmbedder())\n",
    "p.add_component(\n",
    "\t\"graph_writer\", Neo4jGraphWriter(username=NEO4J_USERNAME, password=NEO4J_PASSWORD)\n",
    ")\n",
    "p.connect(\"fetcher\", \"author_extractor\")\n",
    "p.connect(\"fetcher\", \"orgs_extractor\")\n",
    "p.connect(\"fetcher\", \"dataset_extractor\")\n",
    "p.connect(\"author_extractor\", \"joiner.authors\")\n",
    "p.connect(\"orgs_extractor\", \"joiner.orgs\")\n",
    "p.connect(\"dataset_extractor\", \"joiner.datasets\")\n",
    "p.connect(\"joiner\", \"node_emb\")\n",
    "p.connect(\"node_emb\", \"graph_writer\")\n",
    "\n",
    "p.run(data={\"fetcher\": {\"rows\": 100}})"
   ]
  },
  {
   "cell_type": "code",
   "execution_count": null,
   "metadata": {},
   "outputs": [],
   "source": [
    "doc_store = Neo4jDocumentStore(\n",
    "\turl=\"bolt://localhost:7687\",\n",
    "\tusername=NEO4J_USERNAME,\n",
    "\tpassword=NEO4J_PASSWORD,\n",
    "\tindex=\"text-chunk-embeddings\",\n",
    "\tembedding_field=\"embedding\",\n",
    "\tdatabase=\"neo4j\",\n",
    "\tembedding_dim=768,\n",
    "\tnode_label=\"TextChunk\",\n",
    ")\n",
    "\n",
    "p = Pipeline()\n",
    "p.add_component(\"fetcher\", EIDCFetcher())\n",
    "p.add_component(\"author_extractor\", AuthorExtractor())\n",
    "p.add_component(\"dataset_extractor\", DatasetExtractor())\n",
    "p.add_component(\"org_extractor\", OrganisationExtractor())\n",
    "p.add_component(\"rel_extractor\", RelationshipExtractor())\n",
    "p.add_component(\"text_extractor\", TextExtractor([\"description\"]))\n",
    "p.add_component(\n",
    "\t\"splitter\", DocumentSplitter(split_by=\"word\", split_length=50, split_overlap=20)\n",
    ")\n",
    "p.add_component(\n",
    "\t\"embedder\",\n",
    "\tOllamaDocumentEmbedder(model=\"nomic-embed-text\", url=\"http://localhost:11434\"),\n",
    ")\n",
    "p.add_component(\"writer\", DocumentWriter(doc_store))\n",
    "\n",
    "p.connect(\"fetcher\", \"author_extractor\")\n",
    "p.connect(\"fetcher\", \"dataset_extractor\")\n",
    "p.connect(\"fetcher\", \"org_extractor\")\n",
    "p.connect(\"fetcher\", \"rel_extractor\")\n",
    "p.connect(\"fetcher\", \"text_extractor\")\n",
    "p.connect(\"text_extractor\", \"splitter\")\n",
    "p.connect(\"splitter\", \"embedder\")\n",
    "p.connect(\"embedder\", \"writer\")\n",
    "\n",
    "p.run(data={\"fetcher\": {\"rows\": 1}})"
   ]
  }
 ],
 "metadata": {
  "kernelspec": {
   "display_name": ".venv",
   "language": "python",
   "name": "python3"
  },
  "language_info": {
   "codemirror_mode": {
    "name": "ipython",
    "version": 3
   },
   "file_extension": ".py",
   "mimetype": "text/x-python",
   "name": "python",
   "nbconvert_exporter": "python",
   "pygments_lexer": "ipython3",
   "version": "3.12.4"
  }
 },
 "nbformat": 4,
 "nbformat_minor": 2
}
