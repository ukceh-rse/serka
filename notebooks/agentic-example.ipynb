{
 "cells": [
  {
   "cell_type": "code",
   "execution_count": 1,
   "id": "d60c9894",
   "metadata": {},
   "outputs": [
    {
     "data": {
      "text/markdown": [
       "# Answer\n",
       "Based on the number of citations, the most cited dataset in the EIDC catalogue is \"Land Cover Map 2015 (vector, GB)\" with 78 citations[1]. \n",
       "\n",
       "# References\n",
       "- [1] [Land Cover Map 2015 (vector, GB)](https://catalogue.ceh.ac.uk/id/6c6c9203-7333-4d96-88ab-78925e7a4e73)"
      ],
      "text/plain": [
       "<IPython.core.display.Markdown object>"
      ]
     },
     "metadata": {},
     "output_type": "display_data"
    }
   ],
   "source": [
    "from haystack_integrations.tools.mcp import MCPToolset, StreamableHttpServerInfo\n",
    "from haystack_integrations.components.generators.amazon_bedrock import (\n",
    "\tAmazonBedrockChatGenerator,\n",
    ")\n",
    "from haystack.dataclasses import ChatMessage\n",
    "from haystack.components.agents import Agent\n",
    "from IPython.display import display, Markdown\n",
    "\n",
    "server_info = StreamableHttpServerInfo(url=\"http://localhost:8000/mcp\")\n",
    "toolset = MCPToolset(server_info=server_info)\n",
    "\n",
    "generator = AmazonBedrockChatGenerator(model=\"amazon.nova-lite-v1:0\")\n",
    "\n",
    "\n",
    "SYSTEM_PROMPT = \"\"\"\n",
    "You are a helpful assistant. \n",
    "Your task is to help users find information in the EIDC catalogue. \n",
    "The EIDC catalogue contains information about environmental science dataset. \n",
    "You have access to several tools that you should use to help answer the user's query.\n",
    "You may have to use several tools in order to fulfil the user's query.\n",
    "Do not use your own knowledge to answer the user's query.\n",
    "Only use information that is returned from tool calls.\n",
    "Your response should be structured using markdown.\n",
    "All response should contain a footer with a title \"References\" which contains numbered links to the datasets with the information used to compose your response. \n",
    "Where the information is used should also be indicated with the number in square brackets e.g.\n",
    "\n",
    "# Answer\n",
    "This is a response to a question talking about some concept[1] found in a dataset.\n",
    "# References\n",
    "- [1] [Useful dataset](http://eidc.ac.uk/id/1234-5678)\n",
    "\"\"\"\n",
    "\n",
    "agent = Agent(chat_generator=generator, tools=toolset, exit_conditions=[\"text\"])\n",
    "agent.warm_up()\n",
    "messages = [\n",
    "\tChatMessage.from_system(SYSTEM_PROMPT),\n",
    "\tChatMessage.from_user(\"What is the best dataset?\"),\n",
    "]\n",
    "response = agent.run(messages=messages)\n",
    "\n",
    "\n",
    "display(Markdown(response[\"messages\"][-1].text))"
   ]
  }
 ],
 "metadata": {
  "kernelspec": {
   "display_name": "serka",
   "language": "python",
   "name": "python3"
  },
  "language_info": {
   "codemirror_mode": {
    "name": "ipython",
    "version": 3
   },
   "file_extension": ".py",
   "mimetype": "text/x-python",
   "name": "python",
   "nbconvert_exporter": "python",
   "pygments_lexer": "ipython3",
   "version": "3.12.7"
  }
 },
 "nbformat": 4,
 "nbformat_minor": 5
}
