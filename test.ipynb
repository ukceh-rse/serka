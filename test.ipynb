{
 "cells": [
  {
   "cell_type": "code",
   "execution_count": 1,
   "metadata": {},
   "outputs": [],
   "source": [
    "from office365.runtime.auth.authentication_context import AuthenticationContext\n",
    "from office365.sharepoint.client_context import ClientContext, ClientCredential\n",
    "from office365.sharepoint.files.file import File\n",
    "import json\n",
    "import os\n",
    "from dotenv import load_dotenv"
   ]
  },
  {
   "cell_type": "code",
   "execution_count": 2,
   "metadata": {},
   "outputs": [],
   "source": [
    "def get_hubpage_content(site_url, username, password, page_url):\n",
    "\tauth_ctx = AuthenticationContext(site_url)\n",
    "\tif auth_ctx.acquire_token_for_user(username, password):\n",
    "\t\tcredentials = ClientCredential(username, password)\n",
    "\t\tctx = ClientContext(site_url, auth_ctx)\n",
    "\t\tresponse = (\n",
    "\t\t\tFile.from_url(page_url)\n",
    "\t\t\t.with_credentials(credentials)\n",
    "\t\t\t.download(ctx)\n",
    "\t\t\t.execute_query()\n",
    "\t\t)\n",
    "\t\tpage_content = response.content\n",
    "\t\ttry:\n",
    "\t\t\tcontent = json.loads(page_content)\n",
    "\t\t\treturn content\n",
    "\t\texcept Exception:\n",
    "\t\t\treturn page_content.decode(\"utf-8\")\n",
    "\telse:\n",
    "\t\traise Exception(\"Authentication failed\")"
   ]
  },
  {
   "cell_type": "code",
   "execution_count": 3,
   "metadata": {},
   "outputs": [
    {
     "ename": "ValueError",
     "evalue": "{\"error\":\"invalid_client\",\"error_description\":\"AADSTS70002: Client application name 'matcoo@ceh.ac.uk@7f025136-39f3-4f2c-a3c6-cbb1ce21b36a' is not valid or the credentials used to authenticate the client could not be understood by the server. Trace ID: a6716399-5df7-4bd4-a7c5-3418faee2100 Correlation ID: effbb024-adca-41ad-b564-050faff0d2fc Timestamp: 2025-01-27 10:59:03Z\",\"error_codes\":[70002],\"timestamp\":\"2025-01-27 10:59:03Z\",\"trace_id\":\"a6716399-5df7-4bd4-a7c5-3418faee2100\",\"correlation_id\":\"effbb024-adca-41ad-b564-050faff0d2fc\",\"error_uri\":\"https://accounts.accesscontrol.windows.net/error?code=70002\"}",
     "output_type": "error",
     "traceback": [
      "\u001b[0;31m---------------------------------------------------------------------------\u001b[0m",
      "\u001b[0;31mHTTPError\u001b[0m                                 Traceback (most recent call last)",
      "File \u001b[0;32m~/github/serka/.venv/lib/python3.12/site-packages/office365/runtime/auth/providers/acs_token_provider.py:47\u001b[0m, in \u001b[0;36mACSTokenProvider.get_app_only_access_token\u001b[0;34m(self)\u001b[0m\n\u001b[1;32m     46\u001b[0m     url_info \u001b[38;5;241m=\u001b[39m urlparse(\u001b[38;5;28mself\u001b[39m\u001b[38;5;241m.\u001b[39murl)\n\u001b[0;32m---> 47\u001b[0m     \u001b[38;5;28;01mreturn\u001b[39;00m \u001b[38;5;28;43mself\u001b[39;49m\u001b[38;5;241;43m.\u001b[39;49m\u001b[43m_get_app_only_access_token\u001b[49m\u001b[43m(\u001b[49m\u001b[43murl_info\u001b[49m\u001b[38;5;241;43m.\u001b[39;49m\u001b[43mhostname\u001b[49m\u001b[43m,\u001b[49m\u001b[43m \u001b[49m\u001b[43mrealm\u001b[49m\u001b[43m)\u001b[49m\n\u001b[1;32m     48\u001b[0m \u001b[38;5;28;01mexcept\u001b[39;00m requests\u001b[38;5;241m.\u001b[39mexceptions\u001b[38;5;241m.\u001b[39mRequestException \u001b[38;5;28;01mas\u001b[39;00m e:\n",
      "File \u001b[0;32m~/github/serka/.venv/lib/python3.12/site-packages/office365/runtime/auth/providers/acs_token_provider.py:83\u001b[0m, in \u001b[0;36mACSTokenProvider._get_app_only_access_token\u001b[0;34m(self, target_host, target_realm)\u001b[0m\n\u001b[1;32m     78\u001b[0m response \u001b[38;5;241m=\u001b[39m requests\u001b[38;5;241m.\u001b[39mpost(\n\u001b[1;32m     79\u001b[0m     url\u001b[38;5;241m=\u001b[39msts_url,\n\u001b[1;32m     80\u001b[0m     headers\u001b[38;5;241m=\u001b[39m{\u001b[38;5;124m\"\u001b[39m\u001b[38;5;124mContent-Type\u001b[39m\u001b[38;5;124m\"\u001b[39m: \u001b[38;5;124m\"\u001b[39m\u001b[38;5;124mapplication/x-www-form-urlencoded\u001b[39m\u001b[38;5;124m\"\u001b[39m},\n\u001b[1;32m     81\u001b[0m     data\u001b[38;5;241m=\u001b[39moauth2_request,\n\u001b[1;32m     82\u001b[0m )\n\u001b[0;32m---> 83\u001b[0m \u001b[43mresponse\u001b[49m\u001b[38;5;241;43m.\u001b[39;49m\u001b[43mraise_for_status\u001b[49m\u001b[43m(\u001b[49m\u001b[43m)\u001b[49m\n\u001b[1;32m     84\u001b[0m \u001b[38;5;28;01mreturn\u001b[39;00m TokenResponse\u001b[38;5;241m.\u001b[39mfrom_json(response\u001b[38;5;241m.\u001b[39mjson())\n",
      "File \u001b[0;32m~/github/serka/.venv/lib/python3.12/site-packages/requests/models.py:1024\u001b[0m, in \u001b[0;36mResponse.raise_for_status\u001b[0;34m(self)\u001b[0m\n\u001b[1;32m   1023\u001b[0m \u001b[38;5;28;01mif\u001b[39;00m http_error_msg:\n\u001b[0;32m-> 1024\u001b[0m     \u001b[38;5;28;01mraise\u001b[39;00m HTTPError(http_error_msg, response\u001b[38;5;241m=\u001b[39m\u001b[38;5;28mself\u001b[39m)\n",
      "\u001b[0;31mHTTPError\u001b[0m: 401 Client Error: Unauthorized for url: https://accounts.accesscontrol.windows.net/7f025136-39f3-4f2c-a3c6-cbb1ce21b36a/tokens/OAuth/2",
      "\nDuring handling of the above exception, another exception occurred:\n",
      "\u001b[0;31mValueError\u001b[0m                                Traceback (most recent call last)",
      "Cell \u001b[0;32mIn[3], line 7\u001b[0m\n\u001b[1;32m      4\u001b[0m PASSWORD \u001b[38;5;241m=\u001b[39m os\u001b[38;5;241m.\u001b[39menviron\u001b[38;5;241m.\u001b[39mget(\u001b[38;5;124m\"\u001b[39m\u001b[38;5;124mPASSWORD\u001b[39m\u001b[38;5;124m\"\u001b[39m)\n\u001b[1;32m      5\u001b[0m PAGE_URL \u001b[38;5;241m=\u001b[39m \u001b[38;5;124m\"\u001b[39m\u001b[38;5;124mhttps://cehacuk.sharepoint.com/sites/hub-pollution/SitePages/Research-Software-Engineers-(RSEs).aspx\u001b[39m\u001b[38;5;124m\"\u001b[39m\n\u001b[0;32m----> 7\u001b[0m content \u001b[38;5;241m=\u001b[39m \u001b[43mget_hubpage_content\u001b[49m\u001b[43m(\u001b[49m\u001b[43mSITE_URL\u001b[49m\u001b[43m,\u001b[49m\u001b[43m \u001b[49m\u001b[43mUSERNAME\u001b[49m\u001b[43m,\u001b[49m\u001b[43m \u001b[49m\u001b[43mPASSWORD\u001b[49m\u001b[43m,\u001b[49m\u001b[43m \u001b[49m\u001b[43mPAGE_URL\u001b[49m\u001b[43m)\u001b[49m\n\u001b[1;32m      8\u001b[0m \u001b[38;5;28mprint\u001b[39m(content)\n",
      "Cell \u001b[0;32mIn[2], line 10\u001b[0m, in \u001b[0;36mget_hubpage_content\u001b[0;34m(site_url, username, password, page_url)\u001b[0m\n\u001b[1;32m      4\u001b[0m credentials \u001b[38;5;241m=\u001b[39m ClientCredential(username, password)\n\u001b[1;32m      5\u001b[0m ctx \u001b[38;5;241m=\u001b[39m ClientContext(site_url, auth_ctx)\n\u001b[1;32m      6\u001b[0m response \u001b[38;5;241m=\u001b[39m (\n\u001b[1;32m      7\u001b[0m \t\u001b[43mFile\u001b[49m\u001b[38;5;241;43m.\u001b[39;49m\u001b[43mfrom_url\u001b[49m\u001b[43m(\u001b[49m\u001b[43mpage_url\u001b[49m\u001b[43m)\u001b[49m\n\u001b[1;32m      8\u001b[0m \u001b[43m\t\u001b[49m\u001b[38;5;241;43m.\u001b[39;49m\u001b[43mwith_credentials\u001b[49m\u001b[43m(\u001b[49m\u001b[43mcredentials\u001b[49m\u001b[43m)\u001b[49m\n\u001b[1;32m      9\u001b[0m \u001b[43m\t\u001b[49m\u001b[38;5;241;43m.\u001b[39;49m\u001b[43mdownload\u001b[49m\u001b[43m(\u001b[49m\u001b[43mctx\u001b[49m\u001b[43m)\u001b[49m\n\u001b[0;32m---> 10\u001b[0m \u001b[43m\t\u001b[49m\u001b[38;5;241;43m.\u001b[39;49m\u001b[43mexecute_query\u001b[49m\u001b[43m(\u001b[49m\u001b[43m)\u001b[49m\n\u001b[1;32m     11\u001b[0m )\n\u001b[1;32m     12\u001b[0m page_content \u001b[38;5;241m=\u001b[39m response\u001b[38;5;241m.\u001b[39mcontent\n\u001b[1;32m     13\u001b[0m \u001b[38;5;28;01mtry\u001b[39;00m:\n",
      "File \u001b[0;32m~/github/serka/.venv/lib/python3.12/site-packages/office365/runtime/client_object.py:55\u001b[0m, in \u001b[0;36mClientObject.execute_query\u001b[0;34m(self)\u001b[0m\n\u001b[1;32m     52\u001b[0m \u001b[38;5;28;01mdef\u001b[39;00m\u001b[38;5;250m \u001b[39m\u001b[38;5;21mexecute_query\u001b[39m(\u001b[38;5;28mself\u001b[39m):\n\u001b[1;32m     53\u001b[0m     \u001b[38;5;66;03m# type: () -> Self\u001b[39;00m\n\u001b[1;32m     54\u001b[0m \u001b[38;5;250m    \u001b[39m\u001b[38;5;124;03m\"\"\"Submit request(s) to the server.\"\"\"\u001b[39;00m\n\u001b[0;32m---> 55\u001b[0m     \u001b[38;5;28;43mself\u001b[39;49m\u001b[38;5;241;43m.\u001b[39;49m\u001b[43mcontext\u001b[49m\u001b[38;5;241;43m.\u001b[39;49m\u001b[43mexecute_query\u001b[49m\u001b[43m(\u001b[49m\u001b[43m)\u001b[49m\n\u001b[1;32m     56\u001b[0m     \u001b[38;5;28;01mreturn\u001b[39;00m \u001b[38;5;28mself\u001b[39m\n",
      "File \u001b[0;32m~/github/serka/.venv/lib/python3.12/site-packages/office365/runtime/client_runtime_context.py:173\u001b[0m, in \u001b[0;36mClientRuntimeContext.execute_query\u001b[0;34m(self)\u001b[0m\n\u001b[1;32m    171\u001b[0m \u001b[38;5;28;01mwhile\u001b[39;00m \u001b[38;5;28mself\u001b[39m\u001b[38;5;241m.\u001b[39mhas_pending_request:\n\u001b[1;32m    172\u001b[0m     qry \u001b[38;5;241m=\u001b[39m \u001b[38;5;28mself\u001b[39m\u001b[38;5;241m.\u001b[39m_get_next_query()\n\u001b[0;32m--> 173\u001b[0m     \u001b[38;5;28;43mself\u001b[39;49m\u001b[38;5;241;43m.\u001b[39;49m\u001b[43mpending_request\u001b[49m\u001b[43m(\u001b[49m\u001b[43m)\u001b[49m\u001b[38;5;241;43m.\u001b[39;49m\u001b[43mexecute_query\u001b[49m\u001b[43m(\u001b[49m\u001b[43mqry\u001b[49m\u001b[43m)\u001b[49m\n\u001b[1;32m    174\u001b[0m \u001b[38;5;28;01mreturn\u001b[39;00m \u001b[38;5;28mself\u001b[39m\n",
      "File \u001b[0;32m~/github/serka/.venv/lib/python3.12/site-packages/office365/runtime/client_request.py:37\u001b[0m, in \u001b[0;36mClientRequest.execute_query\u001b[0;34m(self, query)\u001b[0m\n\u001b[1;32m     35\u001b[0m \u001b[38;5;28;01mtry\u001b[39;00m:\n\u001b[1;32m     36\u001b[0m     request \u001b[38;5;241m=\u001b[39m \u001b[38;5;28mself\u001b[39m\u001b[38;5;241m.\u001b[39mbuild_request(query)\n\u001b[0;32m---> 37\u001b[0m     response \u001b[38;5;241m=\u001b[39m \u001b[38;5;28;43mself\u001b[39;49m\u001b[38;5;241;43m.\u001b[39;49m\u001b[43mexecute_request_direct\u001b[49m\u001b[43m(\u001b[49m\u001b[43mrequest\u001b[49m\u001b[43m)\u001b[49m\n\u001b[1;32m     38\u001b[0m     \u001b[38;5;28mself\u001b[39m\u001b[38;5;241m.\u001b[39mprocess_response(response, query)\n\u001b[1;32m     39\u001b[0m     \u001b[38;5;28mself\u001b[39m\u001b[38;5;241m.\u001b[39mafterExecute\u001b[38;5;241m.\u001b[39mnotify(response)\n",
      "File \u001b[0;32m~/github/serka/.venv/lib/python3.12/site-packages/office365/runtime/client_request.py:46\u001b[0m, in \u001b[0;36mClientRequest.execute_request_direct\u001b[0;34m(self, request)\u001b[0m\n\u001b[1;32m     43\u001b[0m \u001b[38;5;28;01mdef\u001b[39;00m\u001b[38;5;250m \u001b[39m\u001b[38;5;21mexecute_request_direct\u001b[39m(\u001b[38;5;28mself\u001b[39m, request):\n\u001b[1;32m     44\u001b[0m     \u001b[38;5;66;03m# type: (RequestOptions) -> requests.Response\u001b[39;00m\n\u001b[1;32m     45\u001b[0m \u001b[38;5;250m    \u001b[39m\u001b[38;5;124;03m\"\"\"Execute the client request\"\"\"\u001b[39;00m\n\u001b[0;32m---> 46\u001b[0m     \u001b[38;5;28;43mself\u001b[39;49m\u001b[38;5;241;43m.\u001b[39;49m\u001b[43mbeforeExecute\u001b[49m\u001b[38;5;241;43m.\u001b[39;49m\u001b[43mnotify\u001b[49m\u001b[43m(\u001b[49m\u001b[43mrequest\u001b[49m\u001b[43m)\u001b[49m\n\u001b[1;32m     47\u001b[0m     \u001b[38;5;28;01mif\u001b[39;00m request\u001b[38;5;241m.\u001b[39mmethod \u001b[38;5;241m==\u001b[39m HttpMethod\u001b[38;5;241m.\u001b[39mPost:\n\u001b[1;32m     48\u001b[0m         \u001b[38;5;28;01mif\u001b[39;00m request\u001b[38;5;241m.\u001b[39mis_bytes \u001b[38;5;129;01mor\u001b[39;00m request\u001b[38;5;241m.\u001b[39mis_file:\n",
      "File \u001b[0;32m~/github/serka/.venv/lib/python3.12/site-packages/office365/runtime/types/event_handler.py:41\u001b[0m, in \u001b[0;36mEventHandler.notify\u001b[0;34m(self, *args, **kwargs)\u001b[0m\n\u001b[1;32m     39\u001b[0m \u001b[38;5;28;01mif\u001b[39;00m \u001b[38;5;28mself\u001b[39m\u001b[38;5;241m.\u001b[39m_once:\n\u001b[1;32m     40\u001b[0m     \u001b[38;5;28mself\u001b[39m\u001b[38;5;241m.\u001b[39m_listeners\u001b[38;5;241m.\u001b[39mremove(listener)\n\u001b[0;32m---> 41\u001b[0m \u001b[43mlistener\u001b[49m\u001b[43m(\u001b[49m\u001b[38;5;241;43m*\u001b[39;49m\u001b[43margs\u001b[49m\u001b[43m,\u001b[49m\u001b[43m \u001b[49m\u001b[38;5;241;43m*\u001b[39;49m\u001b[38;5;241;43m*\u001b[39;49m\u001b[43mkwargs\u001b[49m\u001b[43m)\u001b[49m\n",
      "File \u001b[0;32m~/github/serka/.venv/lib/python3.12/site-packages/office365/sharepoint/client_context.py:284\u001b[0m, in \u001b[0;36mClientContext._authenticate_request\u001b[0;34m(self, request)\u001b[0m\n\u001b[1;32m    281\u001b[0m \u001b[38;5;28;01mdef\u001b[39;00m\u001b[38;5;250m \u001b[39m\u001b[38;5;21m_authenticate_request\u001b[39m(\u001b[38;5;28mself\u001b[39m, request):\n\u001b[1;32m    282\u001b[0m     \u001b[38;5;66;03m# type: (RequestOptions) -> None\u001b[39;00m\n\u001b[1;32m    283\u001b[0m \u001b[38;5;250m    \u001b[39m\u001b[38;5;124;03m\"\"\"Authenticate request\"\"\"\u001b[39;00m\n\u001b[0;32m--> 284\u001b[0m     \u001b[38;5;28;43mself\u001b[39;49m\u001b[38;5;241;43m.\u001b[39;49m\u001b[43mauthentication_context\u001b[49m\u001b[38;5;241;43m.\u001b[39;49m\u001b[43mauthenticate_request\u001b[49m\u001b[43m(\u001b[49m\u001b[43mrequest\u001b[49m\u001b[43m)\u001b[49m\n",
      "File \u001b[0;32m~/github/serka/.venv/lib/python3.12/site-packages/office365/runtime/auth/authentication_context.py:249\u001b[0m, in \u001b[0;36mAuthenticationContext.authenticate_request\u001b[0;34m(self, request)\u001b[0m\n\u001b[1;32m    247\u001b[0m \u001b[38;5;28;01mif\u001b[39;00m \u001b[38;5;28mself\u001b[39m\u001b[38;5;241m.\u001b[39m_authenticate \u001b[38;5;129;01mis\u001b[39;00m \u001b[38;5;28;01mNone\u001b[39;00m:\n\u001b[1;32m    248\u001b[0m     \u001b[38;5;28;01mraise\u001b[39;00m \u001b[38;5;167;01mValueError\u001b[39;00m(\u001b[38;5;124m\"\u001b[39m\u001b[38;5;124mAuthentication credentials are missing or invalid\u001b[39m\u001b[38;5;124m\"\u001b[39m)\n\u001b[0;32m--> 249\u001b[0m \u001b[38;5;28;43mself\u001b[39;49m\u001b[38;5;241;43m.\u001b[39;49m\u001b[43m_authenticate\u001b[49m\u001b[43m(\u001b[49m\u001b[43mrequest\u001b[49m\u001b[43m)\u001b[49m\n",
      "File \u001b[0;32m~/github/serka/.venv/lib/python3.12/site-packages/office365/runtime/auth/authentication_context.py:206\u001b[0m, in \u001b[0;36mAuthenticationContext.with_credentials.<locals>._authenticate\u001b[0;34m(request)\u001b[0m\n\u001b[1;32m    205\u001b[0m \u001b[38;5;28;01mdef\u001b[39;00m\u001b[38;5;250m \u001b[39m\u001b[38;5;21m_authenticate\u001b[39m(request):\n\u001b[0;32m--> 206\u001b[0m     \u001b[43mprovider\u001b[49m\u001b[38;5;241;43m.\u001b[39;49m\u001b[43mauthenticate_request\u001b[49m\u001b[43m(\u001b[49m\u001b[43mrequest\u001b[49m\u001b[43m)\u001b[49m\n",
      "File \u001b[0;32m~/github/serka/.venv/lib/python3.12/site-packages/office365/runtime/auth/providers/acs_token_provider.py:34\u001b[0m, in \u001b[0;36mACSTokenProvider.authenticate_request\u001b[0;34m(self, request)\u001b[0m\n\u001b[1;32m     32\u001b[0m \u001b[38;5;28;01mdef\u001b[39;00m\u001b[38;5;250m \u001b[39m\u001b[38;5;21mauthenticate_request\u001b[39m(\u001b[38;5;28mself\u001b[39m, request):\n\u001b[1;32m     33\u001b[0m     \u001b[38;5;66;03m# type: (RequestOptions) -> None\u001b[39;00m\n\u001b[0;32m---> 34\u001b[0m     \u001b[38;5;28;43mself\u001b[39;49m\u001b[38;5;241;43m.\u001b[39;49m\u001b[43mensure_app_only_access_token\u001b[49m\u001b[43m(\u001b[49m\u001b[43m)\u001b[49m\n\u001b[1;32m     35\u001b[0m     request\u001b[38;5;241m.\u001b[39mset_header(\u001b[38;5;124m\"\u001b[39m\u001b[38;5;124mAuthorization\u001b[39m\u001b[38;5;124m\"\u001b[39m, \u001b[38;5;28mself\u001b[39m\u001b[38;5;241m.\u001b[39m_get_authorization_header())\n",
      "File \u001b[0;32m~/github/serka/.venv/lib/python3.12/site-packages/office365/runtime/auth/providers/acs_token_provider.py:39\u001b[0m, in \u001b[0;36mACSTokenProvider.ensure_app_only_access_token\u001b[0;34m(self)\u001b[0m\n\u001b[1;32m     37\u001b[0m \u001b[38;5;28;01mdef\u001b[39;00m\u001b[38;5;250m \u001b[39m\u001b[38;5;21mensure_app_only_access_token\u001b[39m(\u001b[38;5;28mself\u001b[39m):\n\u001b[1;32m     38\u001b[0m     \u001b[38;5;28;01mif\u001b[39;00m \u001b[38;5;28mself\u001b[39m\u001b[38;5;241m.\u001b[39m_cached_token \u001b[38;5;129;01mis\u001b[39;00m \u001b[38;5;28;01mNone\u001b[39;00m:\n\u001b[0;32m---> 39\u001b[0m         \u001b[38;5;28mself\u001b[39m\u001b[38;5;241m.\u001b[39m_cached_token \u001b[38;5;241m=\u001b[39m \u001b[38;5;28;43mself\u001b[39;49m\u001b[38;5;241;43m.\u001b[39;49m\u001b[43mget_app_only_access_token\u001b[49m\u001b[43m(\u001b[49m\u001b[43m)\u001b[49m\n\u001b[1;32m     40\u001b[0m     \u001b[38;5;28;01mreturn\u001b[39;00m \u001b[38;5;28mself\u001b[39m\u001b[38;5;241m.\u001b[39m_cached_token \u001b[38;5;129;01mand\u001b[39;00m \u001b[38;5;28mself\u001b[39m\u001b[38;5;241m.\u001b[39m_cached_token\u001b[38;5;241m.\u001b[39mis_valid\n",
      "File \u001b[0;32m~/github/serka/.venv/lib/python3.12/site-packages/office365/runtime/auth/providers/acs_token_provider.py:54\u001b[0m, in \u001b[0;36mACSTokenProvider.get_app_only_access_token\u001b[0;34m(self)\u001b[0m\n\u001b[1;32m     48\u001b[0m \u001b[38;5;28;01mexcept\u001b[39;00m requests\u001b[38;5;241m.\u001b[39mexceptions\u001b[38;5;241m.\u001b[39mRequestException \u001b[38;5;28;01mas\u001b[39;00m e:\n\u001b[1;32m     49\u001b[0m     \u001b[38;5;28mself\u001b[39m\u001b[38;5;241m.\u001b[39merror \u001b[38;5;241m=\u001b[39m (\n\u001b[1;32m     50\u001b[0m         e\u001b[38;5;241m.\u001b[39mresponse\u001b[38;5;241m.\u001b[39mtext\n\u001b[1;32m     51\u001b[0m         \u001b[38;5;28;01mif\u001b[39;00m e\u001b[38;5;241m.\u001b[39mresponse \u001b[38;5;129;01mis\u001b[39;00m \u001b[38;5;129;01mnot\u001b[39;00m \u001b[38;5;28;01mNone\u001b[39;00m\n\u001b[1;32m     52\u001b[0m         \u001b[38;5;28;01melse\u001b[39;00m \u001b[38;5;124m\"\u001b[39m\u001b[38;5;124mAcquire app-only access token failed.\u001b[39m\u001b[38;5;124m\"\u001b[39m\n\u001b[1;32m     53\u001b[0m     )\n\u001b[0;32m---> 54\u001b[0m     \u001b[38;5;28;01mraise\u001b[39;00m \u001b[38;5;167;01mValueError\u001b[39;00m(\u001b[38;5;28mself\u001b[39m\u001b[38;5;241m.\u001b[39merror)\n",
      "\u001b[0;31mValueError\u001b[0m: {\"error\":\"invalid_client\",\"error_description\":\"AADSTS70002: Client application name 'matcoo@ceh.ac.uk@7f025136-39f3-4f2c-a3c6-cbb1ce21b36a' is not valid or the credentials used to authenticate the client could not be understood by the server. Trace ID: a6716399-5df7-4bd4-a7c5-3418faee2100 Correlation ID: effbb024-adca-41ad-b564-050faff0d2fc Timestamp: 2025-01-27 10:59:03Z\",\"error_codes\":[70002],\"timestamp\":\"2025-01-27 10:59:03Z\",\"trace_id\":\"a6716399-5df7-4bd4-a7c5-3418faee2100\",\"correlation_id\":\"effbb024-adca-41ad-b564-050faff0d2fc\",\"error_uri\":\"https://accounts.accesscontrol.windows.net/error?code=70002\"}"
     ]
    }
   ],
   "source": [
    "load_dotenv()\n",
    "SITE_URL = \"https://cehacuk.sharepoint.com/sites/hub-pollution\"\n",
    "USERNAME = os.environ.get(\"USER\")\n",
    "PASSWORD = os.environ.get(\"PASSWORD\")\n",
    "PAGE_URL = \"https://cehacuk.sharepoint.com/sites/hub-pollution/SitePages/Research-Software-Engineers-(RSEs).aspx\"\n",
    "\n",
    "content = get_hubpage_content(SITE_URL, USERNAME, PASSWORD, PAGE_URL)\n",
    "print(content)"
   ]
  },
  {
   "cell_type": "code",
   "execution_count": 4,
   "metadata": {},
   "outputs": [
    {
     "name": "stdout",
     "output_type": "stream",
     "text": [
      "Status: 403\n",
      "Content: 403 FORBIDDEN\n"
     ]
    }
   ],
   "source": [
    "from requests_ntlm import HttpNtlmAuth\n",
    "import requests\n",
    "\n",
    "\n",
    "def access_sharepoint(site_url, username, password):\n",
    "\t# Create NTLM auth object\n",
    "\tauth = HttpNtlmAuth(username, password)\n",
    "\n",
    "\t# Make request with NTLM auth\n",
    "\tresponse = requests.get(site_url, auth=auth, verify=True)\n",
    "\n",
    "\treturn response\n",
    "\n",
    "\n",
    "# Example usage\n",
    "site_url = \"https://cehacuk.sharepoint.com/sites/hub-pollution/SitePages/Research-Software-Engineers-(RSEs).aspx\"\n",
    "username = os.environ.get(\"USER\")  # or username@domain.com\n",
    "password = os.environ.get(\"PASSWORD\")\n",
    "\n",
    "try:\n",
    "\tresponse = access_sharepoint(site_url, username, password)\n",
    "\tprint(f\"Status: {response.status_code}\")\n",
    "\tprint(f\"Content: {response.text[:200]}\")  # First 200 chars\n",
    "except requests.exceptions.RequestException as e:\n",
    "\tprint(f\"Error: {e}\")"
   ]
  }
 ],
 "metadata": {
  "kernelspec": {
   "display_name": ".venv",
   "language": "python",
   "name": "python3"
  },
  "language_info": {
   "codemirror_mode": {
    "name": "ipython",
    "version": 3
   },
   "file_extension": ".py",
   "mimetype": "text/x-python",
   "name": "python",
   "nbconvert_exporter": "python",
   "pygments_lexer": "ipython3",
   "version": "3.12.4"
  }
 },
 "nbformat": 4,
 "nbformat_minor": 2
}
